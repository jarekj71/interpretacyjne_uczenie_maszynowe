{
 "cells": [
  {
   "cell_type": "code",
   "execution_count": null,
   "metadata": {},
   "outputs": [],
   "source": []
  }
 ],
 "metadata": {
  "kernelspec": {
   "display_name": "venv",
   "language": "python",
   "name": "python3"
  },
  "language_info": {
   "name": "python",
   "version": "3.9.5"
  },
  "orig_nbformat": 4,
  "vscode": {
   "interpreter": {
    "hash": "6867b30a3421520677d1bb84d11743cdcc71f5787aade55f73f5b2ee3d7b2fc7"
   }
  }
 },
 "nbformat": 4,
 "nbformat_minor": 2
}
