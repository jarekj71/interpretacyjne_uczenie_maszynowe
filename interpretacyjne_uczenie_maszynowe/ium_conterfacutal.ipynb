{
 "cells": [
  {
   "cell_type": "code",
   "execution_count": 109,
   "metadata": {},
   "outputs": [],
   "source": [
    "import pandas as pd\n",
    "import dice_ml\n",
    "import numpy as np\n",
    "\n",
    "from sklearn.ensemble import RandomForestClassifier as rfc\n",
    "from sklearn.ensemble import RandomForestRegressor as rfr\n",
    "from sklearn.model_selection import ShuffleSplit\n",
    "from sklearn.model_selection import LeaveOneOut\n",
    "from sklearn.preprocessing import LabelEncoder\n",
    "from matplotlib import pyplot as plt\n",
    "import seaborn as sns\n"
   ]
  },
  {
   "attachments": {},
   "cell_type": "markdown",
   "metadata": {},
   "source": [
    "## Szukanie \"słabych\" przypadków\n",
    "\n",
    "W praktyce pod względem predykcji (klasyfikacji) przypadki dzielą się na następujące grupy:\n",
    "\n",
    "- Zawsze prawidłowo przewidziane\n",
    "- Zawsze przewidziane źle (outliers)\n",
    "- Skaczące (borderlines) - ale jest to kwestia skali\n",
    "\n",
    "Przyczyną błędów predyckcji w małych zbiorach dla przypadków skaczących danych jest zróżnicowanie rozkładów zmiennych w zbiorze testowym i treningowym. \n",
    "\n",
    "- przypadki, zawsze zawyżone albo zaniżone (outliers)\n",
    "- przypadki zawierające wartości zawyżone lub zaniżone wartość średnia bliska oczekiwanej\n",
    "- Osobną kwestią jest zakres błędu\n",
    "\n",
    "![granice_decyzyjne](obrazy/granice_decyzyjne.png)"
   ]
  },
  {
   "cell_type": "markdown",
   "metadata": {},
   "source": [
    "Istnieje kilka mechanizmów podziału na zbiór treningowy i testowy + modyfikatory, jak grupy czy stratyfikacja na podstawie rozkładu danych.\n",
    "- `HoldOut` wyznaczania pojedynczego podzbioru (walidacja podzbiorem)\n",
    "- `LeaveOneOut` - usuwanie ze zbioru uczącego kolejnych pojedynczych przypadków służących za przypadek testowy (walidacja pojedynczym przypadkiem)\n",
    "- `LeavePOut` -kombinatoryczne usuwanie p przypadków tworzących zbiory testowe. Ze względu na eksplozję kombinatoryczną zastępowany przez `SuffleSplit` (bootstrap)\n",
    "- `KFold` - usuwanie kolejnych, nienakładających się podzbiorów służących za zbiory testowe\n",
    "\n",
    "Do wyszukiwania przypadków odstających w praktyce wykorzystuje się `ShuffleSplit`\n",
    "\n",
    "W Scikit-klearn klasy dzielnące zbiory zwracają indeksy grup a nie zbiory danych, tak jak funkcja pomocnicza `train_test_split()` "
   ]
  },
  {
   "attachments": {},
   "cell_type": "markdown",
   "metadata": {},
   "source": [
    "Ocena danych na przykładzie zbiorów diabetes"
   ]
  },
  {
   "cell_type": "code",
   "execution_count": 110,
   "metadata": {},
   "outputs": [],
   "source": [
    "\n",
    "data = pd.read_csv(\"Datasets/diabetes_class.csv\")\n",
    "sdata = data.sample(100,random_state=1) # powtarzalność wyników\n",
    "X = sdata.drop(\"Class\",axis=1)\n",
    "X = X.reset_index(drop=True)\n",
    "enc = LabelEncoder().fit(sdata.Class)\n",
    "y = enc.transform(sdata.Class)"
   ]
  },
  {
   "attachments": {},
   "cell_type": "markdown",
   "metadata": {},
   "source": [
    "Do wykrycia przypadków skaczączących zastosujemy metody bootstrap (ShuffleSplit) dla 150 powtórzeń oraz LeaveOneOut"
   ]
  },
  {
   "cell_type": "code",
   "execution_count": 111,
   "metadata": {},
   "outputs": [],
   "source": [
    "n_splits = 150\n",
    "yhats_ss = np.full((n_splits,y.shape[0]),np.nan) # tworzenie pustej macierzy zawierającej wyniki\n",
    "ss = ShuffleSplit(n_splits=n_splits, test_size=0.25, random_state=0)\n",
    "for i, (train_index, test_index) in enumerate(ss.split(X)):\n",
    "    X_train = X.iloc[train_index]\n",
    "    X_test = X.iloc[test_index]\n",
    "    y_train = y[train_index]\n",
    "    y_test = y[test_index]\n",
    "    model = rfc().fit(X_train, y_train)\n",
    "    yhat = model.predict(X_test)\n",
    "    yhats_ss[i][test_index] = yhat\n",
    "\n",
    "#wyniki w sztukach trzeba przeliczyć na wskaźniki procentowe\n",
    "zeros = (yhats_ss==0).sum(axis=0)\n",
    "ones = (yhats_ss==1).sum(axis=0)\n",
    "sums = zeros+ones\n",
    "zeros_ratio = zeros/sums\n",
    "ones_ratio = ones/sums\n",
    "counts = (~np.isnan(yhats_ss)).sum(axis=0)"
   ]
  },
  {
   "cell_type": "code",
   "execution_count": 112,
   "metadata": {},
   "outputs": [],
   "source": [
    "yhats_prob = np.full(y.shape,np.nan)\n",
    "loo = LeaveOneOut()\n",
    "for i, (train_index, test_index) in enumerate(loo.split(X)):\n",
    "    X_train = X.iloc[train_index]\n",
    "    X_test = X.iloc[test_index]\n",
    "    y_train = y[train_index]\n",
    "    y_test = y[test_index]\n",
    "    model = rfc().fit(X_train, y_train)\n",
    "    yhats_prob[i] = model.predict_proba(X_test)[0][1]"
   ]
  },
  {
   "cell_type": "markdown",
   "metadata": {},
   "source": [
    "Do oceny przypadków użyjemy wykresu barplot. Przyjmujemy następujące założenia:\n",
    "* Jeżeli przypadek jest True (1) lub False (0) i ma wartości odpowiednio powyżej 0.9 i poniżej 0.1 są to przypadki odlełge od granicy decyzyjnej\n",
    "* Jeżeli przypadek jest True (1) lub False (0) i ma wartości odpowiednio  poniżej 0.1 i powyżej 0.9  są to przypadki odstające\n",
    "* Jeżeli znajdują się pomiędzy 0.3 a 0.7 to są to przypadki graniczne\n",
    "\n",
    "W przypadku, gdy analizujemy probablilty, mamy do dyspozycji pradwdopodobieństwo zaliczenia do klasy True"
   ]
  },
  {
   "cell_type": "code",
   "execution_count": 113,
   "metadata": {},
   "outputs": [
    {
     "data": {
      "text/plain": [
       "(-0.5, 99.5)"
      ]
     },
     "execution_count": 113,
     "metadata": {},
     "output_type": "execute_result"
    },
    {
     "data": {
      "image/png": "[encoded data removed]",
      "text/plain": [
       "<Figure size 1440x720 with 2 Axes>"
      ]
     },
     "metadata": {
      "needs_background": "light"
     },
     "output_type": "display_data"
    }
   ],
   "source": [
    "fig,(ax1,ax2) = plt.subplots(nrows=2,figsize=(20,10))\n",
    "sns.barplot(x=range(100),y=ones_ratio,hue=y,ax=ax1)\n",
    "ax1.hlines((0.1,0.3,0.7,0.9),0,100,color=\"k\")\n",
    "ax1.set_xlim(-0.5,99.5)\n",
    "sns.barplot(x=range(100),y=yhats_prob,hue=y,ax=ax2)\n",
    "ax2.set_xlim(-0.5,99.5)"
   ]
  },
  {
   "attachments": {},
   "cell_type": "markdown",
   "metadata": {},
   "source": [
    "## Conterfactual reasoning (wnioskowanie wbrew faktom)\n",
    "Metoda wnioskowania wbrew faktom polega na generowaniu przypakdów zbliżonych do szukanego i wyboru tych, które dają najbardziej oczekiwane wyniki, tzn. prawidłową klasę, lub niewielki błąd dla regresji.\n",
    "\n",
    "Pakiet pozwalający na CFR to dice_ml. Wymaga złożonego przygotowania danych.\n",
    "\n",
    "Przykład dla przypadku, mocno skaczącego. Orginalnie True. Jako zbiór treningowy wykorzystamy cały zbiór, za wyjątkiem wybranego przypadku (LeaveOneOut)"
   ]
  },
  {
   "cell_type": "code",
   "execution_count": 114,
   "metadata": {},
   "outputs": [
    {
     "name": "stdout",
     "output_type": "stream",
     "text": [
      "1   0.16666666666666666\n"
     ]
    }
   ],
   "source": [
    "i = 20\n",
    "print(y[i],\" \",ones_ratio[i])\n"
   ]
  },
  {
   "cell_type": "code",
   "execution_count": 115,
   "metadata": {},
   "outputs": [
    {
     "data": {
      "text/plain": [
       "array([0])"
      ]
     },
     "execution_count": 115,
     "metadata": {},
     "output_type": "execute_result"
    }
   ],
   "source": [
    "test_index = i\n",
    "X_train = X.drop(axis=0,index=test_index)\n",
    "y_train = np.delete(y,test_index)\n",
    "X_test = X.iloc[test_index:test_index+1]\n",
    "\n",
    "model = rfc().fit(X_train, y_train)\n",
    "model.predict(X_test) # czy będzie błąd"
   ]
  },
  {
   "attachments": {},
   "cell_type": "markdown",
   "metadata": {},
   "source": [
    "### Zbudowanie explainera"
   ]
  },
  {
   "cell_type": "code",
   "execution_count": 116,
   "metadata": {},
   "outputs": [],
   "source": [
    "m = dice_ml.Model(model=model, backend=\"sklearn\")\n",
    "d = dice_ml.Data(dataframe=data,continuous_features=data.columns.to_list()[:-1],outcome_name='Class')\n",
    "exp = dice_ml.Dice(d, m, method=\"random\")"
   ]
  },
  {
   "cell_type": "code",
   "execution_count": 117,
   "metadata": {},
   "outputs": [
    {
     "name": "stderr",
     "output_type": "stream",
     "text": [
      "100%|██████████| 1/1 [00:00<00:00,  6.96it/s]"
     ]
    },
    {
     "name": "stdout",
     "output_type": "stream",
     "text": [
      "Query instance (original outcome : 0)\n"
     ]
    },
    {
     "name": "stderr",
     "output_type": "stream",
     "text": [
      "\n"
     ]
    },
    {
     "data": {
      "text/html": [
       "<div>\n",
       "<style scoped>\n",
       "    .dataframe tbody tr th:only-of-type {\n",
       "        vertical-align: middle;\n",
       "    }\n",
       "\n",
       "    .dataframe tbody tr th {\n",
       "        vertical-align: top;\n",
       "    }\n",
       "\n",
       "    .dataframe thead th {\n",
       "        text-align: right;\n",
       "    }\n",
       "</style>\n",
       "<table border=\"1\" class=\"dataframe\">\n",
       "  <thead>\n",
       "    <tr style=\"text-align: right;\">\n",
       "      <th></th>\n",
       "      <th>Number of times pregnant</th>\n",
       "      <th>Plasma glucose concentration</th>\n",
       "      <th>Diastolic blood pressure</th>\n",
       "      <th>Triceps skin fold thickness</th>\n",
       "      <th>2-Hour serum insulin</th>\n",
       "      <th>Body mass index</th>\n",
       "      <th>Diabetes pedigree function</th>\n",
       "      <th>Age</th>\n",
       "      <th>Class</th>\n",
       "    </tr>\n",
       "  </thead>\n",
       "  <tbody>\n",
       "    <tr>\n",
       "      <th>0</th>\n",
       "      <td>4</td>\n",
       "      <td>125</td>\n",
       "      <td>70</td>\n",
       "      <td>18</td>\n",
       "      <td>122</td>\n",
       "      <td>28.9</td>\n",
       "      <td>1.144</td>\n",
       "      <td>45</td>\n",
       "      <td>0</td>\n",
       "    </tr>\n",
       "  </tbody>\n",
       "</table>\n",
       "</div>"
      ],
      "text/plain": [
       "   Number of times pregnant  Plasma glucose concentration  \\\n",
       "0                         4                           125   \n",
       "\n",
       "   Diastolic blood pressure  Triceps skin fold thickness  \\\n",
       "0                        70                           18   \n",
       "\n",
       "   2-Hour serum insulin  Body mass index  Diabetes pedigree function  Age  \\\n",
       "0                   122             28.9                       1.144   45   \n",
       "\n",
       "   Class  \n",
       "0      0  "
      ]
     },
     "metadata": {},
     "output_type": "display_data"
    },
    {
     "name": "stdout",
     "output_type": "stream",
     "text": [
      "\n",
      "Diverse Counterfactual set (new outcome: 1.0)\n"
     ]
    },
    {
     "data": {
      "text/html": [
       "<div>\n",
       "<style scoped>\n",
       "    .dataframe tbody tr th:only-of-type {\n",
       "        vertical-align: middle;\n",
       "    }\n",
       "\n",
       "    .dataframe tbody tr th {\n",
       "        vertical-align: top;\n",
       "    }\n",
       "\n",
       "    .dataframe thead th {\n",
       "        text-align: right;\n",
       "    }\n",
       "</style>\n",
       "<table border=\"1\" class=\"dataframe\">\n",
       "  <thead>\n",
       "    <tr style=\"text-align: right;\">\n",
       "      <th></th>\n",
       "      <th>Number of times pregnant</th>\n",
       "      <th>Plasma glucose concentration</th>\n",
       "      <th>Diastolic blood pressure</th>\n",
       "      <th>Triceps skin fold thickness</th>\n",
       "      <th>2-Hour serum insulin</th>\n",
       "      <th>Body mass index</th>\n",
       "      <th>Diabetes pedigree function</th>\n",
       "      <th>Age</th>\n",
       "      <th>Class</th>\n",
       "    </tr>\n",
       "  </thead>\n",
       "  <tbody>\n",
       "    <tr>\n",
       "      <th>0</th>\n",
       "      <td>4.0</td>\n",
       "      <td>125.0</td>\n",
       "      <td>70.0</td>\n",
       "      <td>18.0</td>\n",
       "      <td>122.0</td>\n",
       "      <td>51.9</td>\n",
       "      <td>1.144</td>\n",
       "      <td>45.0</td>\n",
       "      <td>1</td>\n",
       "    </tr>\n",
       "    <tr>\n",
       "      <th>1</th>\n",
       "      <td>4.0</td>\n",
       "      <td>125.0</td>\n",
       "      <td>70.0</td>\n",
       "      <td>55.0</td>\n",
       "      <td>122.0</td>\n",
       "      <td>29.0</td>\n",
       "      <td>0.620</td>\n",
       "      <td>45.0</td>\n",
       "      <td>1</td>\n",
       "    </tr>\n",
       "  </tbody>\n",
       "</table>\n",
       "</div>"
      ],
      "text/plain": [
       "   Number of times pregnant  Plasma glucose concentration  \\\n",
       "0                       4.0                         125.0   \n",
       "1                       4.0                         125.0   \n",
       "\n",
       "   Diastolic blood pressure  Triceps skin fold thickness  \\\n",
       "0                      70.0                         18.0   \n",
       "1                      70.0                         55.0   \n",
       "\n",
       "   2-Hour serum insulin  Body mass index  Diabetes pedigree function   Age  \\\n",
       "0                 122.0             51.9                       1.144  45.0   \n",
       "1                 122.0             29.0                       0.620  45.0   \n",
       "\n",
       "   Class  \n",
       "0      1  \n",
       "1      1  "
      ]
     },
     "metadata": {},
     "output_type": "display_data"
    }
   ],
   "source": [
    "e = exp.generate_counterfactuals(X_test, total_CFs=2, desired_class=\"opposite\")\n",
    "e.visualize_as_dataframe()"
   ]
  },
  {
   "attachments": {},
   "cell_type": "markdown",
   "metadata": {},
   "source": [
    "W praktyce wydobywanie danych nie jest możliwe przy pomocy dostępnych funkcji. Trzeba sięgnąć do zmiennych ukrytych"
   ]
  },
  {
   "cell_type": "code",
   "execution_count": 118,
   "metadata": {},
   "outputs": [
    {
     "data": {
      "text/html": [
       "<div>\n",
       "<style scoped>\n",
       "    .dataframe tbody tr th:only-of-type {\n",
       "        vertical-align: middle;\n",
       "    }\n",
       "\n",
       "    .dataframe tbody tr th {\n",
       "        vertical-align: top;\n",
       "    }\n",
       "\n",
       "    .dataframe thead th {\n",
       "        text-align: right;\n",
       "    }\n",
       "</style>\n",
       "<table border=\"1\" class=\"dataframe\">\n",
       "  <thead>\n",
       "    <tr style=\"text-align: right;\">\n",
       "      <th></th>\n",
       "      <th>Number of times pregnant</th>\n",
       "      <th>Plasma glucose concentration</th>\n",
       "      <th>Diastolic blood pressure</th>\n",
       "      <th>Triceps skin fold thickness</th>\n",
       "      <th>2-Hour serum insulin</th>\n",
       "      <th>Body mass index</th>\n",
       "      <th>Diabetes pedigree function</th>\n",
       "      <th>Age</th>\n",
       "      <th>Class</th>\n",
       "    </tr>\n",
       "  </thead>\n",
       "  <tbody>\n",
       "    <tr>\n",
       "      <th>0</th>\n",
       "      <td>4.0</td>\n",
       "      <td>125.0</td>\n",
       "      <td>70.0</td>\n",
       "      <td>19.0</td>\n",
       "      <td>122.0</td>\n",
       "      <td>51.9</td>\n",
       "      <td>1.144</td>\n",
       "      <td>45.0</td>\n",
       "      <td>1</td>\n",
       "    </tr>\n",
       "    <tr>\n",
       "      <th>1</th>\n",
       "      <td>4.0</td>\n",
       "      <td>125.0</td>\n",
       "      <td>70.0</td>\n",
       "      <td>55.0</td>\n",
       "      <td>122.0</td>\n",
       "      <td>28.9</td>\n",
       "      <td>0.620</td>\n",
       "      <td>45.0</td>\n",
       "      <td>1</td>\n",
       "    </tr>\n",
       "  </tbody>\n",
       "</table>\n",
       "</div>"
      ],
      "text/plain": [
       "   Number of times pregnant  Plasma glucose concentration  \\\n",
       "0                       4.0                         125.0   \n",
       "1                       4.0                         125.0   \n",
       "\n",
       "   Diastolic blood pressure  Triceps skin fold thickness  \\\n",
       "0                      70.0                         19.0   \n",
       "1                      70.0                         55.0   \n",
       "\n",
       "   2-Hour serum insulin  Body mass index  Diabetes pedigree function   Age  \\\n",
       "0                 122.0             51.9                       1.144  45.0   \n",
       "1                 122.0             28.9                       0.620  45.0   \n",
       "\n",
       "   Class  \n",
       "0      1  \n",
       "1      1  "
      ]
     },
     "execution_count": 118,
     "metadata": {},
     "output_type": "execute_result"
    }
   ],
   "source": [
    "e0 = e._cf_examples_list[0]\n",
    "e0_df = e0.final_cfs_df\n",
    "e0_df"
   ]
  },
  {
   "attachments": {},
   "cell_type": "markdown",
   "metadata": {},
   "source": [
    "Wizualizacja zmiennych"
   ]
  },
  {
   "cell_type": "code",
   "execution_count": 119,
   "metadata": {},
   "outputs": [
    {
     "data": {
      "image/png": "[encoded data removed]",
      "text/plain": [
       "<Figure size 720x432 with 1 Axes>"
      ]
     },
     "metadata": {
      "needs_background": "light"
     },
     "output_type": "display_data"
    }
   ],
   "source": [
    "fig,ax = plt.subplots(figsize=(10,6))\n",
    "ax.bar(x=X_test.columns,height=X_test.iloc[0])\n",
    "ax.bar(x=X_test.columns,height=e0_df.iloc[1,:-1],width=0.6) # dla drugiego przypadku\n",
    "ax.tick_params(axis='x', labelrotation = 90)"
   ]
  },
  {
   "attachments": {},
   "cell_type": "markdown",
   "metadata": {},
   "source": [
    "## Regresja\n",
    "\n",
    "w przypadku regresji możemy zastosować dwie metody oceny pojedycznych przypadków: LeaveOneOut (jedna wartość) lub bootstrap (z odchyleniem standardowym)"
   ]
  },
  {
   "cell_type": "code",
   "execution_count": 120,
   "metadata": {},
   "outputs": [],
   "source": [
    "data = pd.read_csv(\"Datasets/diabetes_reg.csv\")\n",
    "sdata = data.sample(100,random_state=1) # powtarzalność wyników\n",
    "sdata = sdata.reset_index(drop=True)\n",
    "X = sdata.drop(\"progress\",axis=1)\n",
    "y = sdata.progress\n"
   ]
  },
  {
   "attachments": {},
   "cell_type": "markdown",
   "metadata": {},
   "source": [
    "Leave one out"
   ]
  },
  {
   "cell_type": "code",
   "execution_count": 121,
   "metadata": {},
   "outputs": [],
   "source": [
    "loo = LeaveOneOut()\n",
    "yhats = []\n",
    "for i, (train_index, test_index) in enumerate(loo.split(X)):\n",
    "    X_train = X.iloc[train_index]\n",
    "    y_train = y[train_index]\n",
    "    X_test = X.iloc[test_index]\n",
    "    model = rfr().fit(X_train, y_train) # zmieniamy na regressor\n",
    "    yhats.append(model.predict(X_test))\n",
    "yhats_1 = np.array(yhats).flatten()"
   ]
  },
  {
   "attachments": {},
   "cell_type": "markdown",
   "metadata": {},
   "source": [
    "Bootstrap"
   ]
  },
  {
   "cell_type": "code",
   "execution_count": 122,
   "metadata": {},
   "outputs": [],
   "source": [
    "n_splits = 150\n",
    "yhats = np.full((n_splits,y.shape[0]),np.nan)\n",
    "ss = ShuffleSplit(n_splits=n_splits, test_size=0.25, random_state=0)\n",
    "for i, (train_index, test_index) in enumerate(ss.split(X)):\n",
    "    X_train = X.iloc[train_index]\n",
    "    X_test = X.iloc[test_index]\n",
    "    y_train = y[train_index]\n",
    "    y_test = y[test_index]\n",
    "    model = rfr().fit(X_train, y_train)\n",
    "    yhat = model.predict(X_test)\n",
    "    yhats[i][test_index] = yhat\n",
    "\n",
    "yhats_2_mean = np.nanmean(yhats,axis=0)\n",
    "yhats_2_std = np.nanstd(yhats,axis=0)"
   ]
  },
  {
   "attachments": {},
   "cell_type": "markdown",
   "metadata": {},
   "source": [
    "### Analiza przy pomocy wykresu"
   ]
  },
  {
   "cell_type": "code",
   "execution_count": 123,
   "metadata": {},
   "outputs": [
    {
     "data": {
      "image/png": "[encoded data removed]",
      "text/plain": [
       "<Figure size 720x576 with 1 Axes>"
      ]
     },
     "metadata": {
      "needs_background": "light"
     },
     "output_type": "display_data"
    }
   ],
   "source": [
    "fig,ax = plt.subplots(figsize=(10,8))\n",
    "ax1 = ax.scatter(y,yhats_1,label=\"LeaveOneOut\")\n",
    "ax2 = ax.errorbar(y,yhats_2_mean,yhats_2_std,fmt=\".r\",label=\"Bootstrap\",markersize=10)\n",
    "_ = ax.legend()"
   ]
  },
  {
   "attachments": {},
   "cell_type": "markdown",
   "metadata": {},
   "source": [
    "## CFR dla regresji \n",
    "wymaga zaznaczenia że jest to model regresyjny oraz wskazać oczekiwany zakres wyniku predykcji. Pozostałe elementy są podobne do wnioskowania dla klasyfikacji. Przykład zostanie przeprowadzony dla przypadku 37"
   ]
  },
  {
   "cell_type": "code",
   "execution_count": 124,
   "metadata": {},
   "outputs": [
    {
     "name": "stdout",
     "output_type": "stream",
     "text": [
      "215 [198.78]\n"
     ]
    }
   ],
   "source": [
    "test_index = 37\n",
    "X_train = X.drop(axis=0,index=test_index)\n",
    "y_train = np.delete(y.values,test_index)\n",
    "X_test = X.iloc[test_index:test_index+1]\n",
    "\n",
    "model = rfr().fit(X_train, y_train)\n",
    "\n",
    "yhat = model.predict(X_test)\n",
    "y_test=y.values[test_index]\n",
    "print(y_test,yhat)"
   ]
  },
  {
   "cell_type": "code",
   "execution_count": 125,
   "metadata": {},
   "outputs": [],
   "source": [
    "m = dice_ml.Model(model=model, backend=\"sklearn\",model_type=\"regressor\")\n",
    "d = dice_ml.Data(dataframe=data,continuous_features=data.columns.to_list()[:-1],outcome_name='progress')\n",
    "exp = dice_ml.Dice(d, m, method=\"random\")"
   ]
  },
  {
   "cell_type": "code",
   "execution_count": 126,
   "metadata": {},
   "outputs": [
    {
     "name": "stderr",
     "output_type": "stream",
     "text": [
      "100%|██████████| 1/1 [00:00<00:00,  6.99it/s]"
     ]
    },
    {
     "name": "stdout",
     "output_type": "stream",
     "text": [
      "Query instance (original outcome : 199)\n"
     ]
    },
    {
     "name": "stderr",
     "output_type": "stream",
     "text": [
      "\n"
     ]
    },
    {
     "data": {
      "text/html": [
       "<div>\n",
       "<style scoped>\n",
       "    .dataframe tbody tr th:only-of-type {\n",
       "        vertical-align: middle;\n",
       "    }\n",
       "\n",
       "    .dataframe tbody tr th {\n",
       "        vertical-align: top;\n",
       "    }\n",
       "\n",
       "    .dataframe thead th {\n",
       "        text-align: right;\n",
       "    }\n",
       "</style>\n",
       "<table border=\"1\" class=\"dataframe\">\n",
       "  <thead>\n",
       "    <tr style=\"text-align: right;\">\n",
       "      <th></th>\n",
       "      <th>age</th>\n",
       "      <th>sex</th>\n",
       "      <th>bmi</th>\n",
       "      <th>blood preasure</th>\n",
       "      <th>total cholesterol</th>\n",
       "      <th>low-density lipoprotein</th>\n",
       "      <th>high-density lipoproteins</th>\n",
       "      <th>total cholesterol / HDL</th>\n",
       "      <th>serum triglycerides level</th>\n",
       "      <th>glucose</th>\n",
       "      <th>progress</th>\n",
       "    </tr>\n",
       "  </thead>\n",
       "  <tbody>\n",
       "    <tr>\n",
       "      <th>0</th>\n",
       "      <td>45</td>\n",
       "      <td>1</td>\n",
       "      <td>32.0</td>\n",
       "      <td>110.0</td>\n",
       "      <td>224</td>\n",
       "      <td>134.199997</td>\n",
       "      <td>45.0</td>\n",
       "      <td>5.0</td>\n",
       "      <td>5.4116</td>\n",
       "      <td>93</td>\n",
       "      <td>199.0</td>\n",
       "    </tr>\n",
       "  </tbody>\n",
       "</table>\n",
       "</div>"
      ],
      "text/plain": [
       "   age  sex   bmi  blood preasure  total cholesterol  low-density lipoprotein  \\\n",
       "0   45    1  32.0           110.0                224               134.199997   \n",
       "\n",
       "   high-density lipoproteins  total cholesterol / HDL  \\\n",
       "0                       45.0                      5.0   \n",
       "\n",
       "   serum triglycerides level  glucose  progress  \n",
       "0                     5.4116       93     199.0  "
      ]
     },
     "metadata": {},
     "output_type": "display_data"
    },
    {
     "name": "stdout",
     "output_type": "stream",
     "text": [
      "\n",
      "Diverse Counterfactual set (new outcome: [250, 260])\n"
     ]
    },
    {
     "data": {
      "text/html": [
       "<div>\n",
       "<style scoped>\n",
       "    .dataframe tbody tr th:only-of-type {\n",
       "        vertical-align: middle;\n",
       "    }\n",
       "\n",
       "    .dataframe tbody tr th {\n",
       "        vertical-align: top;\n",
       "    }\n",
       "\n",
       "    .dataframe thead th {\n",
       "        text-align: right;\n",
       "    }\n",
       "</style>\n",
       "<table border=\"1\" class=\"dataframe\">\n",
       "  <thead>\n",
       "    <tr style=\"text-align: right;\">\n",
       "      <th></th>\n",
       "      <th>age</th>\n",
       "      <th>sex</th>\n",
       "      <th>bmi</th>\n",
       "      <th>blood preasure</th>\n",
       "      <th>total cholesterol</th>\n",
       "      <th>low-density lipoprotein</th>\n",
       "      <th>high-density lipoproteins</th>\n",
       "      <th>total cholesterol / HDL</th>\n",
       "      <th>serum triglycerides level</th>\n",
       "      <th>glucose</th>\n",
       "      <th>progress</th>\n",
       "    </tr>\n",
       "  </thead>\n",
       "  <tbody>\n",
       "    <tr>\n",
       "      <th>0</th>\n",
       "      <td>45.0</td>\n",
       "      <td>1.0</td>\n",
       "      <td>39.9</td>\n",
       "      <td>110.0</td>\n",
       "      <td>166.0</td>\n",
       "      <td>134.2</td>\n",
       "      <td>45.0</td>\n",
       "      <td>5.0</td>\n",
       "      <td>5.2870</td>\n",
       "      <td>93.0</td>\n",
       "      <td>254.440002</td>\n",
       "    </tr>\n",
       "    <tr>\n",
       "      <th>1</th>\n",
       "      <td>45.0</td>\n",
       "      <td>1.0</td>\n",
       "      <td>39.9</td>\n",
       "      <td>110.0</td>\n",
       "      <td>166.0</td>\n",
       "      <td>134.2</td>\n",
       "      <td>45.0</td>\n",
       "      <td>5.0</td>\n",
       "      <td>5.4116</td>\n",
       "      <td>93.0</td>\n",
       "      <td>253.020004</td>\n",
       "    </tr>\n",
       "  </tbody>\n",
       "</table>\n",
       "</div>"
      ],
      "text/plain": [
       "    age  sex   bmi  blood preasure  total cholesterol  \\\n",
       "0  45.0  1.0  39.9           110.0              166.0   \n",
       "1  45.0  1.0  39.9           110.0              166.0   \n",
       "\n",
       "   low-density lipoprotein  high-density lipoproteins  \\\n",
       "0                    134.2                       45.0   \n",
       "1                    134.2                       45.0   \n",
       "\n",
       "   total cholesterol / HDL  serum triglycerides level  glucose    progress  \n",
       "0                      5.0                     5.2870     93.0  254.440002  \n",
       "1                      5.0                     5.4116     93.0  253.020004  "
      ]
     },
     "metadata": {},
     "output_type": "display_data"
    }
   ],
   "source": [
    "e = exp.generate_counterfactuals(X_test, total_CFs=2, desired_range=[250,260])\n",
    "e.visualize_as_dataframe()"
   ]
  },
  {
   "cell_type": "code",
   "execution_count": 127,
   "metadata": {},
   "outputs": [
    {
     "data": {
      "text/html": [
       "<div>\n",
       "<style scoped>\n",
       "    .dataframe tbody tr th:only-of-type {\n",
       "        vertical-align: middle;\n",
       "    }\n",
       "\n",
       "    .dataframe tbody tr th {\n",
       "        vertical-align: top;\n",
       "    }\n",
       "\n",
       "    .dataframe thead th {\n",
       "        text-align: right;\n",
       "    }\n",
       "</style>\n",
       "<table border=\"1\" class=\"dataframe\">\n",
       "  <thead>\n",
       "    <tr style=\"text-align: right;\">\n",
       "      <th></th>\n",
       "      <th>age</th>\n",
       "      <th>sex</th>\n",
       "      <th>bmi</th>\n",
       "      <th>blood preasure</th>\n",
       "      <th>total cholesterol</th>\n",
       "      <th>low-density lipoprotein</th>\n",
       "      <th>high-density lipoproteins</th>\n",
       "      <th>total cholesterol / HDL</th>\n",
       "      <th>serum triglycerides level</th>\n",
       "      <th>glucose</th>\n",
       "      <th>progress</th>\n",
       "    </tr>\n",
       "  </thead>\n",
       "  <tbody>\n",
       "    <tr>\n",
       "      <th>0</th>\n",
       "      <td>45.0</td>\n",
       "      <td>1.0</td>\n",
       "      <td>39.9</td>\n",
       "      <td>110.0</td>\n",
       "      <td>166.0</td>\n",
       "      <td>134.2</td>\n",
       "      <td>45.0</td>\n",
       "      <td>5.0</td>\n",
       "      <td>5.2870</td>\n",
       "      <td>93.0</td>\n",
       "      <td>254.0</td>\n",
       "    </tr>\n",
       "    <tr>\n",
       "      <th>1</th>\n",
       "      <td>45.0</td>\n",
       "      <td>1.0</td>\n",
       "      <td>39.9</td>\n",
       "      <td>110.0</td>\n",
       "      <td>166.0</td>\n",
       "      <td>134.2</td>\n",
       "      <td>45.0</td>\n",
       "      <td>5.0</td>\n",
       "      <td>5.4116</td>\n",
       "      <td>93.0</td>\n",
       "      <td>253.0</td>\n",
       "    </tr>\n",
       "  </tbody>\n",
       "</table>\n",
       "</div>"
      ],
      "text/plain": [
       "    age  sex   bmi  blood preasure  total cholesterol  \\\n",
       "0  45.0  1.0  39.9           110.0              166.0   \n",
       "1  45.0  1.0  39.9           110.0              166.0   \n",
       "\n",
       "   low-density lipoprotein  high-density lipoproteins  \\\n",
       "0                    134.2                       45.0   \n",
       "1                    134.2                       45.0   \n",
       "\n",
       "   total cholesterol / HDL  serum triglycerides level  glucose  progress  \n",
       "0                      5.0                     5.2870     93.0     254.0  \n",
       "1                      5.0                     5.4116     93.0     253.0  "
      ]
     },
     "execution_count": 127,
     "metadata": {},
     "output_type": "execute_result"
    }
   ],
   "source": [
    "e0 = e._cf_examples_list[0]\n",
    "e0_df = e0.final_cfs_df\n",
    "e0_df"
   ]
  },
  {
   "attachments": {},
   "cell_type": "markdown",
   "metadata": {},
   "source": [
    "Wizualizacja proponowanych zmian"
   ]
  },
  {
   "cell_type": "code",
   "execution_count": 128,
   "metadata": {},
   "outputs": [
    {
     "data": {
      "image/png": "[encoded data removed]",
      "text/plain": [
       "<Figure size 720x432 with 1 Axes>"
      ]
     },
     "metadata": {
      "needs_background": "light"
     },
     "output_type": "display_data"
    }
   ],
   "source": [
    "fig,ax = plt.subplots(figsize=(10,6))\n",
    "ax.bar(x=X_test.columns,height=X_test.iloc[0])\n",
    "ax.bar(x=X_test.columns,height=e0_df.iloc[1,:-1],width=0.6)\n",
    "ax.tick_params(axis='x', labelrotation = 90)"
   ]
  },
  {
   "attachments": {},
   "cell_type": "markdown",
   "metadata": {},
   "source": [
    "## Zadanie: \n",
    "\n",
    "> dla zbioru danych \"beton\" dla wybranych przypadków, wskazać jakie minimalne zmiany musiały by zostać wprowadzone, aby dany beton był mocniejszy. Czy takie postępowanie jest prawidłowe?"
   ]
  }
 ],
 "metadata": {
  "kernelspec": {
   "display_name": "venv",
   "language": "python",
   "name": "python3"
  },
  "language_info": {
   "codemirror_mode": {
    "name": "ipython",
    "version": 3
   },
   "file_extension": ".py",
   "mimetype": "text/x-python",
   "name": "python",
   "nbconvert_exporter": "python",
   "pygments_lexer": "ipython3",
   "version": "3.9.5"
  },
  "orig_nbformat": 4
 },
 "nbformat": 4,
 "nbformat_minor": 2
}
