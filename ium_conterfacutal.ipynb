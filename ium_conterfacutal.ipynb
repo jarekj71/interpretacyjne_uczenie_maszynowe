{
 "cells": [
  {
   "cell_type": "code",
   "execution_count": 1,
   "metadata": {},
   "outputs": [],
   "source": [
    "import pandas as pd\n",
    "import dice_ml\n",
    "import numpy as np\n",
    "\n",
    "from sklearn.model_selection import train_test_split\n",
    "from sklearn.ensemble import RandomForestClassifier as rfc\n",
    "from sklearn.ensemble import RandomForestRegressor as rfr\n",
    "from sklearn.model_selection import ShuffleSplit\n",
    "from sklearn.model_selection import LeaveOneOut\n",
    "from sklearn.preprocessing import LabelEncoder\n",
    "from matplotlib import pyplot as plt\n"
   ]
  },
  {
   "attachments": {},
   "cell_type": "markdown",
   "metadata": {},
   "source": [
    "## Szukanie \"słabych\" przypadków\n",
    "\n",
    "W praktyce pod względem predykcji (klasyfikacji) przypadki dzielą się na następujące grupy:\n",
    "\n",
    "- Zawsze prawidłowo przewidziane\n",
    "- Zawsze przewidziane źle\n",
    "- Skaczące (kwestia skali)\n",
    "\n",
    "Przyczyną błędów predyckcji w małych zbiorach dla przypadków skaczących danych jest zróżnicowanie rozkładów zmiennych w zbiorze testowym i treningowym. "
   ]
  },
  {
   "attachments": {},
   "cell_type": "markdown",
   "metadata": {},
   "source": [
    "Ocena danych na przykładzie zbiorów diabetes"
   ]
  },
  {
   "cell_type": "code",
   "execution_count": 2,
   "metadata": {},
   "outputs": [],
   "source": [
    "data = pd.read_csv(\"Datasets/diabetes_class.csv\")\n",
    "X = data.drop(\"Class\",axis=1)\n",
    "enc = LabelEncoder().fit(data.Class)\n",
    "y = enc.transform(data.Class)"
   ]
  },
  {
   "attachments": {},
   "cell_type": "markdown",
   "metadata": {},
   "source": [
    "Do wykrycia przypadków skaczączących zastosujemy metodę bootstrap (ShuffleSplit) dla 150 powtórzeń"
   ]
  },
  {
   "cell_type": "code",
   "execution_count": 3,
   "metadata": {},
   "outputs": [],
   "source": [
    "n_splits = 150\n",
    "yhats = np.full((n_splits,y.shape[0]),np.nan)\n",
    "ss = ShuffleSplit(n_splits=n_splits, test_size=0.25, random_state=0)\n",
    "for i, (train_index, test_index) in enumerate(ss.split(X)):\n",
    "    X_train = X.iloc[train_index]\n",
    "    X_test = X.iloc[test_index]\n",
    "    y_train = y[train_index]\n",
    "    y_test = y[test_index]\n",
    "    model = rfc().fit(X_train, y_train)\n",
    "    yhat = model.predict(X_test)\n",
    "    yhats[i][test_index] = yhat"
   ]
  },
  {
   "cell_type": "code",
   "execution_count": 4,
   "metadata": {},
   "outputs": [],
   "source": [
    "zeros = (yhats==0).sum(axis=0)\n",
    "ones = (yhats==1).sum(axis=0)\n",
    "\n",
    "sums = zeros+ones\n",
    "zeros_ratio = zeros/sums\n",
    "ones_ratio = ones/sums\n",
    "\n",
    "counts = (~np.isnan(yhats)).sum(axis=0)"
   ]
  },
  {
   "cell_type": "code",
   "execution_count": 7,
   "metadata": {},
   "outputs": [
    {
     "data": {
      "text/plain": [
       "array([0.        , 1.        , 0.28205128, 1.        , 0.        ,\n",
       "       1.        , 1.        , 0.12      , 0.        , 1.        ,\n",
       "       1.        , 0.        , 0.65789474, 0.02941176, 0.225     ,\n",
       "       1.        , 0.17948718, 0.95454545, 0.97777778, 1.        ,\n",
       "       0.94444444, 1.        , 0.        , 0.86842105, 0.02040816,\n",
       "       1.        , 0.08571429, 1.        , 0.86666667, 0.82222222,\n",
       "       0.21428571, 0.        , 1.        , 1.        , 0.05714286,\n",
       "       1.        , 0.        , 0.44444444, 1.        , 0.64285714,\n",
       "       0.        , 0.        , 1.        , 0.        , 0.        ,\n",
       "       0.        , 0.14893617, 1.        , 0.78947368, 1.        ,\n",
       "       1.        , 1.        , 1.        , 0.        , 0.        ,\n",
       "       1.        , 0.        , 0.27027027, 0.        , 1.        ,\n",
       "       1.        , 0.20689655, 1.        , 1.        , 0.02702703,\n",
       "       1.        , 0.89189189, 0.15789474, 1.        , 0.97727273,\n",
       "       1.        , 0.58823529, 0.25      , 1.        , 1.        ,\n",
       "       1.        , 1.        , 1.        , 0.        , 1.        ,\n",
       "       1.        , 1.        , 1.        , 1.        , 0.24242424,\n",
       "       1.        , 0.93181818, 1.        , 0.70731707, 1.        ,\n",
       "       1.        , 0.52173913, 1.        , 1.        , 1.        ,\n",
       "       0.11111111, 1.        , 1.        , 1.        , 0.21052632,\n",
       "       0.        , 1.        , 1.        , 1.        , 1.        ,\n",
       "       1.        , 1.        , 0.68571429, 1.        , 1.        ,\n",
       "       0.19444444, 0.        , 1.        , 1.        , 0.        ,\n",
       "       0.05882353, 0.62790698, 1.        , 1.        , 1.        ,\n",
       "       0.        , 1.        , 1.        , 1.        , 1.        ,\n",
       "       1.        , 0.75675676, 1.        , 0.68571429, 1.        ,\n",
       "       0.        , 0.        , 0.        , 0.94285714, 1.        ,\n",
       "       0.71052632, 1.        , 1.        , 0.22580645, 1.        ,\n",
       "       0.97222222, 0.94871795, 1.        , 0.74418605, 0.92857143,\n",
       "       1.        , 1.        , 0.27272727, 0.16216216, 1.        ,\n",
       "       0.79487179, 1.        , 0.        , 0.83783784, 0.        ,\n",
       "       0.03125   , 1.        , 1.        , 1.        , 0.        ,\n",
       "       0.48571429, 1.        , 1.        , 1.        , 0.44186047,\n",
       "       0.97222222, 0.92682927, 0.34285714, 0.94285714, 1.        ,\n",
       "       1.        , 0.71875   , 1.        , 1.        , 1.        ,\n",
       "       0.        , 1.        , 0.44897959, 0.03125   , 0.325     ,\n",
       "       1.        , 1.        , 1.        , 1.        , 0.82926829,\n",
       "       0.        , 0.        , 0.07692308, 0.86842105, 0.94444444,\n",
       "       1.        , 0.76923077, 0.        , 0.        , 1.        ,\n",
       "       0.32258065, 1.        , 1.        , 0.87096774, 1.        ,\n",
       "       1.        , 0.85      , 1.        , 1.        , 0.78378378,\n",
       "       1.        , 0.        , 0.06976744, 1.        , 0.        ,\n",
       "       1.        , 0.        , 0.        , 0.90697674, 0.81578947,\n",
       "       0.        , 1.        , 0.54285714, 1.        , 0.775     ,\n",
       "       0.02702703, 0.02702703, 1.        , 0.325     , 1.        ,\n",
       "       1.        , 1.        , 0.        , 0.        , 1.        ,\n",
       "       0.20588235, 0.25      , 1.        , 0.925     , 1.        ,\n",
       "       0.        , 0.        , 0.        , 0.        , 1.        ,\n",
       "       1.        , 1.        , 1.        , 1.        , 0.05714286,\n",
       "       0.        , 0.        , 0.04545455, 0.22222222, 1.        ,\n",
       "       0.02380952, 1.        , 1.        , 1.        , 0.97142857,\n",
       "       1.        , 1.        , 1.        , 0.61764706, 0.        ,\n",
       "       0.        , 0.18181818, 1.        , 0.69565217, 0.24444444,\n",
       "       0.79487179, 0.        , 0.17142857, 1.        , 1.        ,\n",
       "       0.075     , 1.        , 1.        , 1.        , 0.74358974,\n",
       "       1.        , 1.        , 1.        , 1.        , 1.        ,\n",
       "       0.55555556, 0.06896552, 0.24324324, 0.0625    , 1.        ,\n",
       "       0.52941176, 0.        , 0.56666667, 1.        , 1.        ,\n",
       "       1.        , 1.        , 0.        , 1.        , 0.93548387,\n",
       "       0.03030303, 0.91428571, 1.        , 0.63414634, 1.        ,\n",
       "       0.        , 0.91666667, 1.        , 0.97674419, 1.        ,\n",
       "       1.        , 0.38888889, 1.        , 0.94736842, 0.44117647,\n",
       "       1.        , 1.        , 1.        , 1.        , 0.        ,\n",
       "       1.        , 1.        , 0.        , 1.        , 0.65384615,\n",
       "       0.8       , 1.        , 1.        , 0.88888889, 1.        ,\n",
       "       1.        , 0.75      , 0.        , 1.        , 1.        ,\n",
       "       1.        , 1.        , 0.        , 1.        , 1.        ,\n",
       "       0.        , 0.02777778, 0.41176471, 0.        , 0.        ,\n",
       "       1.        , 1.        , 1.        , 0.96296296, 1.        ,\n",
       "       0.27027027, 1.        , 1.        , 1.        , 1.        ,\n",
       "       1.        , 0.81395349, 0.97959184, 1.        , 1.        ,\n",
       "       0.02631579, 0.8125    , 0.        , 1.        , 0.        ,\n",
       "       0.        , 0.30952381, 1.        , 0.19512195, 0.10526316,\n",
       "       1.        , 1.        , 1.        , 1.        , 0.46875   ,\n",
       "       0.        , 1.        , 1.        , 1.        , 0.10526316,\n",
       "       0.        , 1.        , 1.        , 0.        , 0.94444444,\n",
       "       1.        , 1.        , 1.        , 1.        , 1.        ,\n",
       "       1.        , 0.59459459, 1.        , 0.19444444, 0.88888889,\n",
       "       0.68421053, 0.        , 1.        , 1.        , 0.        ,\n",
       "       1.        , 1.        , 1.        , 1.        , 0.08823529,\n",
       "       1.        , 0.77777778, 1.        , 1.        , 0.        ,\n",
       "       0.74358974, 0.575     , 1.        , 0.36363636, 0.        ,\n",
       "       1.        , 1.        , 0.65116279, 1.        , 0.875     ,\n",
       "       0.05714286, 1.        , 0.08108108, 1.        , 1.        ,\n",
       "       0.875     , 1.        , 1.        , 1.        , 0.        ,\n",
       "       0.        , 1.        , 0.        , 0.61111111, 1.        ,\n",
       "       1.        , 1.        , 1.        , 1.        , 1.        ,\n",
       "       0.14285714, 0.06666667, 0.04545455, 1.        , 0.72727273,\n",
       "       0.        , 1.        , 1.        , 0.07692308, 1.        ,\n",
       "       0.        , 1.        , 1.        , 1.        , 1.        ,\n",
       "       1.        , 1.        , 1.        , 1.        , 1.        ,\n",
       "       0.16666667, 1.        , 1.        , 0.        , 1.        ,\n",
       "       1.        , 1.        , 1.        , 1.        , 0.94871795,\n",
       "       1.        , 1.        , 1.        , 0.65      , 0.02631579,\n",
       "       0.26315789, 0.3       , 1.        , 0.46153846, 1.        ,\n",
       "       0.90322581, 0.8974359 , 1.        , 1.        , 0.88888889,\n",
       "       0.        , 1.        , 1.        , 1.        , 0.        ,\n",
       "       1.        , 0.53658537, 0.        , 1.        , 0.30769231,\n",
       "       1.        , 1.        , 1.        , 0.37142857, 1.        ,\n",
       "       0.51724138, 1.        , 1.        , 0.2       , 0.06666667,\n",
       "       1.        , 1.        , 1.        , 0.97142857, 1.        ,\n",
       "       1.        , 0.        , 1.        , 1.        , 1.        ,\n",
       "       1.        , 1.        , 1.        , 1.        , 1.        ,\n",
       "       0.29411765, 0.        , 0.76315789, 1.        , 0.975     ,\n",
       "       1.        , 1.        , 1.        , 0.        , 0.85185185,\n",
       "       1.        , 1.        , 1.        , 1.        , 1.        ,\n",
       "       1.        , 0.86666667, 1.        , 1.        , 1.        ,\n",
       "       0.68292683, 0.97560976, 1.        , 0.94594595, 0.05882353,\n",
       "       0.29411765, 1.        , 0.97435897, 1.        , 1.        ,\n",
       "       0.        , 0.        , 0.925     , 0.        , 0.        ,\n",
       "       1.        , 1.        , 1.        , 1.        , 1.        ,\n",
       "       0.96969697, 1.        , 0.94117647, 0.78787879, 0.95652174,\n",
       "       0.925     , 0.        , 1.        , 1.        , 1.        ,\n",
       "       1.        , 1.        , 1.        , 0.02439024, 0.91176471,\n",
       "       1.        , 1.        , 1.        , 1.        , 1.        ,\n",
       "       1.        , 1.        , 1.        , 0.84210526, 0.        ,\n",
       "       0.82051282, 1.        , 1.        , 0.95652174, 0.25      ,\n",
       "       1.        , 0.10869565, 1.        , 0.        , 1.        ,\n",
       "       0.02777778, 1.        , 0.61290323, 1.        , 0.05      ,\n",
       "       0.16666667, 1.        , 1.        , 0.        , 1.        ,\n",
       "       1.        , 1.        , 1.        , 0.        , 0.22222222,\n",
       "       1.        , 0.        , 1.        , 0.76666667, 1.        ,\n",
       "       1.        , 0.        , 0.        , 0.93333333, 0.        ,\n",
       "       1.        , 1.        , 1.        , 0.10810811, 0.97959184,\n",
       "       1.        , 1.        , 0.        , 1.        , 1.        ,\n",
       "       1.        , 1.        , 0.8       , 0.34285714, 1.        ,\n",
       "       0.96875   , 1.        , 1.        , 1.        , 1.        ,\n",
       "       0.94117647, 0.875     , 1.        , 0.82352941, 1.        ,\n",
       "       1.        , 0.91428571, 0.94285714, 1.        , 1.        ,\n",
       "       0.04651163, 0.44444444, 0.        , 0.67647059, 1.        ,\n",
       "       1.        , 1.        , 1.        , 1.        , 1.        ,\n",
       "       0.83870968, 1.        , 0.        , 0.61363636, 1.        ,\n",
       "       0.01923077, 0.        , 0.        , 0.        , 0.97674419,\n",
       "       1.        , 0.94594595, 1.        , 0.94594595, 0.        ,\n",
       "       0.        , 1.        , 1.        , 0.52272727, 1.        ,\n",
       "       0.        , 0.8125    , 1.        , 1.        , 1.        ,\n",
       "       1.        , 0.02857143, 1.        , 1.        , 1.        ,\n",
       "       0.74358974, 1.        , 1.        , 1.        , 0.025     ,\n",
       "       1.        , 0.03225806, 1.        , 0.43181818, 1.        ,\n",
       "       0.29411765, 0.        , 1.        , 0.96153846, 0.43589744,\n",
       "       1.        , 1.        , 0.        , 0.        , 1.        ,\n",
       "       1.        , 1.        , 1.        , 0.        , 1.        ,\n",
       "       0.30434783, 0.77777778, 0.05555556, 1.        , 1.        ,\n",
       "       0.        , 0.        , 1.        , 1.        , 1.        ,\n",
       "       1.        , 1.        , 0.69767442, 1.        , 0.45454545,\n",
       "       1.        , 1.        , 0.9375    , 0.54545455, 1.        ,\n",
       "       1.        , 1.        , 0.        , 1.        , 1.        ,\n",
       "       1.        , 1.        , 1.        , 1.        , 1.        ,\n",
       "       0.        , 1.        , 1.        , 0.        , 0.        ,\n",
       "       0.38709677, 0.27027027, 1.        , 0.        , 0.81818182,\n",
       "       0.24137931, 1.        , 1.        , 0.025     , 0.        ,\n",
       "       0.12121212, 0.09803922, 0.44117647, 1.        , 0.275     ,\n",
       "       1.        , 0.        , 1.        , 0.75757576, 1.        ,\n",
       "       1.        , 0.425     , 1.        ])"
      ]
     },
     "execution_count": 7,
     "metadata": {},
     "output_type": "execute_result"
    }
   ],
   "source": [
    "#counts\n",
    "zeros_ratio"
   ]
  },
  {
   "attachments": {},
   "cell_type": "markdown",
   "metadata": {},
   "source": [
    "## Conterfactual reasoning (wnioskowanie wbrew faktom)\n",
    "Metoda wnioskowania wbrew faktom polega na generowaniu przypakdów zbliżonych do szukanego i wyboru tych, które dają najbardziej oczekiwane wyniki, tzn. prawidłową klasę, lub niewielki błąd dla regresji.\n",
    "\n",
    "Pakiet pozwalający na CFR to dice_ml. Wymaga złożonego przygotowania danych.\n",
    "\n",
    "Przykład dla przypadku o indeksie 37, mocno skaczącego. Orginalnie True. Jako zbiór treningowy wykorzystamy cały zbiór, za wyjątkiem przypadku 37 (LeaveOneOut)"
   ]
  },
  {
   "cell_type": "code",
   "execution_count": 10,
   "metadata": {},
   "outputs": [
    {
     "name": "stdout",
     "output_type": "stream",
     "text": [
      "1   0.4444444444444444\n"
     ]
    }
   ],
   "source": [
    "print(y[37],\" \",zeros_ratio[37])\n"
   ]
  },
  {
   "cell_type": "code",
   "execution_count": 11,
   "metadata": {},
   "outputs": [],
   "source": [
    "test_index = 37\n",
    "X_train = X.drop(axis=0,index=test_index)\n",
    "y_train = np.delete(y,test_index)\n",
    "X_test = X.iloc[test_index:test_index+1]\n",
    "\n",
    "model = rfc().fit(X_train, y_train)"
   ]
  },
  {
   "attachments": {},
   "cell_type": "markdown",
   "metadata": {},
   "source": [
    "### Zbudowanie explainera"
   ]
  },
  {
   "cell_type": "code",
   "execution_count": 12,
   "metadata": {},
   "outputs": [],
   "source": [
    "m = dice_ml.Model(model=model, backend=\"sklearn\")\n",
    "d = dice_ml.Data(dataframe=data,continuous_features=data.columns.to_list()[:-1],outcome_name='Class')\n",
    "exp = dice_ml.Dice(d, m, method=\"random\")"
   ]
  },
  {
   "cell_type": "code",
   "execution_count": 13,
   "metadata": {},
   "outputs": [
    {
     "name": "stderr",
     "output_type": "stream",
     "text": [
      "100%|██████████| 1/1 [00:00<00:00,  6.09it/s]\n"
     ]
    }
   ],
   "source": [
    "e = exp.generate_counterfactuals(X_test, total_CFs=2, desired_class=\"opposite\")"
   ]
  },
  {
   "cell_type": "code",
   "execution_count": 14,
   "metadata": {},
   "outputs": [
    {
     "name": "stdout",
     "output_type": "stream",
     "text": [
      "Query instance (original outcome : 1)\n"
     ]
    },
    {
     "data": {
      "text/html": [
       "<div>\n",
       "<style scoped>\n",
       "    .dataframe tbody tr th:only-of-type {\n",
       "        vertical-align: middle;\n",
       "    }\n",
       "\n",
       "    .dataframe tbody tr th {\n",
       "        vertical-align: top;\n",
       "    }\n",
       "\n",
       "    .dataframe thead th {\n",
       "        text-align: right;\n",
       "    }\n",
       "</style>\n",
       "<table border=\"1\" class=\"dataframe\">\n",
       "  <thead>\n",
       "    <tr style=\"text-align: right;\">\n",
       "      <th></th>\n",
       "      <th>Number of times pregnant</th>\n",
       "      <th>Plasma glucose concentration</th>\n",
       "      <th>Diastolic blood pressure</th>\n",
       "      <th>Triceps skin fold thickness</th>\n",
       "      <th>2-Hour serum insulin</th>\n",
       "      <th>Body mass index</th>\n",
       "      <th>Diabetes pedigree function</th>\n",
       "      <th>Age</th>\n",
       "      <th>Class</th>\n",
       "    </tr>\n",
       "  </thead>\n",
       "  <tbody>\n",
       "    <tr>\n",
       "      <th>0</th>\n",
       "      <td>9</td>\n",
       "      <td>102</td>\n",
       "      <td>76</td>\n",
       "      <td>37</td>\n",
       "      <td>0</td>\n",
       "      <td>32.900002</td>\n",
       "      <td>0.665</td>\n",
       "      <td>46</td>\n",
       "      <td>1</td>\n",
       "    </tr>\n",
       "  </tbody>\n",
       "</table>\n",
       "</div>"
      ],
      "text/plain": [
       "   Number of times pregnant  Plasma glucose concentration  \\\n",
       "0                         9                           102   \n",
       "\n",
       "   Diastolic blood pressure  Triceps skin fold thickness  \\\n",
       "0                        76                           37   \n",
       "\n",
       "   2-Hour serum insulin  Body mass index  Diabetes pedigree function  Age  \\\n",
       "0                     0        32.900002                       0.665   46   \n",
       "\n",
       "   Class  \n",
       "0      1  "
      ]
     },
     "metadata": {},
     "output_type": "display_data"
    },
    {
     "name": "stdout",
     "output_type": "stream",
     "text": [
      "\n",
      "Diverse Counterfactual set (new outcome: 0.0)\n"
     ]
    },
    {
     "data": {
      "text/html": [
       "<div>\n",
       "<style scoped>\n",
       "    .dataframe tbody tr th:only-of-type {\n",
       "        vertical-align: middle;\n",
       "    }\n",
       "\n",
       "    .dataframe tbody tr th {\n",
       "        vertical-align: top;\n",
       "    }\n",
       "\n",
       "    .dataframe thead th {\n",
       "        text-align: right;\n",
       "    }\n",
       "</style>\n",
       "<table border=\"1\" class=\"dataframe\">\n",
       "  <thead>\n",
       "    <tr style=\"text-align: right;\">\n",
       "      <th></th>\n",
       "      <th>Number of times pregnant</th>\n",
       "      <th>Plasma glucose concentration</th>\n",
       "      <th>Diastolic blood pressure</th>\n",
       "      <th>Triceps skin fold thickness</th>\n",
       "      <th>2-Hour serum insulin</th>\n",
       "      <th>Body mass index</th>\n",
       "      <th>Diabetes pedigree function</th>\n",
       "      <th>Age</th>\n",
       "      <th>Class</th>\n",
       "    </tr>\n",
       "  </thead>\n",
       "  <tbody>\n",
       "    <tr>\n",
       "      <th>0</th>\n",
       "      <td>9.0</td>\n",
       "      <td>102.0</td>\n",
       "      <td>76.0</td>\n",
       "      <td>75.0</td>\n",
       "      <td>0.0</td>\n",
       "      <td>33.0</td>\n",
       "      <td>0.665</td>\n",
       "      <td>46.0</td>\n",
       "      <td>0</td>\n",
       "    </tr>\n",
       "    <tr>\n",
       "      <th>1</th>\n",
       "      <td>9.0</td>\n",
       "      <td>102.0</td>\n",
       "      <td>76.0</td>\n",
       "      <td>37.0</td>\n",
       "      <td>0.0</td>\n",
       "      <td>22.1</td>\n",
       "      <td>0.665</td>\n",
       "      <td>46.0</td>\n",
       "      <td>0</td>\n",
       "    </tr>\n",
       "  </tbody>\n",
       "</table>\n",
       "</div>"
      ],
      "text/plain": [
       "   Number of times pregnant  Plasma glucose concentration  \\\n",
       "0                       9.0                         102.0   \n",
       "1                       9.0                         102.0   \n",
       "\n",
       "   Diastolic blood pressure  Triceps skin fold thickness  \\\n",
       "0                      76.0                         75.0   \n",
       "1                      76.0                         37.0   \n",
       "\n",
       "   2-Hour serum insulin  Body mass index  Diabetes pedigree function   Age  \\\n",
       "0                   0.0             33.0                       0.665  46.0   \n",
       "1                   0.0             22.1                       0.665  46.0   \n",
       "\n",
       "   Class  \n",
       "0      0  \n",
       "1      0  "
      ]
     },
     "metadata": {},
     "output_type": "display_data"
    }
   ],
   "source": [
    "e.visualize_as_dataframe()"
   ]
  },
  {
   "attachments": {},
   "cell_type": "markdown",
   "metadata": {},
   "source": [
    "W praktyce wydobywanie danych nie jest możliwe przy pomocy dostępnych funkcji. Trzeba sięgnąć do zmiennych ukrytych"
   ]
  },
  {
   "cell_type": "code",
   "execution_count": 18,
   "metadata": {},
   "outputs": [
    {
     "data": {
      "text/html": [
       "<div>\n",
       "<style scoped>\n",
       "    .dataframe tbody tr th:only-of-type {\n",
       "        vertical-align: middle;\n",
       "    }\n",
       "\n",
       "    .dataframe tbody tr th {\n",
       "        vertical-align: top;\n",
       "    }\n",
       "\n",
       "    .dataframe thead th {\n",
       "        text-align: right;\n",
       "    }\n",
       "</style>\n",
       "<table border=\"1\" class=\"dataframe\">\n",
       "  <thead>\n",
       "    <tr style=\"text-align: right;\">\n",
       "      <th></th>\n",
       "      <th>Number of times pregnant</th>\n",
       "      <th>Plasma glucose concentration</th>\n",
       "      <th>Diastolic blood pressure</th>\n",
       "      <th>Triceps skin fold thickness</th>\n",
       "      <th>2-Hour serum insulin</th>\n",
       "      <th>Body mass index</th>\n",
       "      <th>Diabetes pedigree function</th>\n",
       "      <th>Age</th>\n",
       "      <th>Class</th>\n",
       "    </tr>\n",
       "  </thead>\n",
       "  <tbody>\n",
       "    <tr>\n",
       "      <th>0</th>\n",
       "      <td>9.0</td>\n",
       "      <td>102.0</td>\n",
       "      <td>76.0</td>\n",
       "      <td>75.0</td>\n",
       "      <td>0.0</td>\n",
       "      <td>32.9</td>\n",
       "      <td>0.665</td>\n",
       "      <td>46.0</td>\n",
       "      <td>0</td>\n",
       "    </tr>\n",
       "    <tr>\n",
       "      <th>1</th>\n",
       "      <td>9.0</td>\n",
       "      <td>102.0</td>\n",
       "      <td>76.0</td>\n",
       "      <td>37.0</td>\n",
       "      <td>0.0</td>\n",
       "      <td>22.1</td>\n",
       "      <td>0.665</td>\n",
       "      <td>46.0</td>\n",
       "      <td>0</td>\n",
       "    </tr>\n",
       "  </tbody>\n",
       "</table>\n",
       "</div>"
      ],
      "text/plain": [
       "   Number of times pregnant  Plasma glucose concentration  \\\n",
       "0                       9.0                         102.0   \n",
       "1                       9.0                         102.0   \n",
       "\n",
       "   Diastolic blood pressure  Triceps skin fold thickness  \\\n",
       "0                      76.0                         75.0   \n",
       "1                      76.0                         37.0   \n",
       "\n",
       "   2-Hour serum insulin  Body mass index  Diabetes pedigree function   Age  \\\n",
       "0                   0.0             32.9                       0.665  46.0   \n",
       "1                   0.0             22.1                       0.665  46.0   \n",
       "\n",
       "   Class  \n",
       "0      0  \n",
       "1      0  "
      ]
     },
     "execution_count": 18,
     "metadata": {},
     "output_type": "execute_result"
    }
   ],
   "source": [
    "e0 = e._cf_examples_list[0]\n",
    "e0_df = e0.final_cfs_df\n",
    "e0_df"
   ]
  },
  {
   "attachments": {},
   "cell_type": "markdown",
   "metadata": {},
   "source": [
    "Wizualizacja zmiennych"
   ]
  },
  {
   "cell_type": "code",
   "execution_count": 20,
   "metadata": {},
   "outputs": [
    {
     "data": {
      "image/png": "[encoded data removed]",
      "text/plain": [
       "<Figure size 720x432 with 1 Axes>"
      ]
     },
     "metadata": {
      "needs_background": "light"
     },
     "output_type": "display_data"
    }
   ],
   "source": [
    "fig,ax = plt.subplots(figsize=(10,6))\n",
    "ax.bar(x=X_test.columns,height=X_test.iloc[0])\n",
    "ax.bar(x=X_test.columns,height=e0_df.iloc[1,:-1],width=0.6) # dla drugiego przypadku\n",
    "ax.tick_params(axis='x', labelrotation = 90)"
   ]
  },
  {
   "attachments": {},
   "cell_type": "markdown",
   "metadata": {},
   "source": [
    "## Regresja\n",
    "\n",
    "w przypadku regresji możemy zastosować dwie metody oceny pojedycznych przypadków: LeaveOneOut (jedna wartość) lub bootstrap (z odchyleniem standardowym)"
   ]
  },
  {
   "cell_type": "code",
   "execution_count": 21,
   "metadata": {},
   "outputs": [],
   "source": [
    "data = pd.read_csv(\"Datasets/diabetes_reg.csv\")\n",
    "X = data.drop(\"progress\",axis=1)\n",
    "y = data.progress\n"
   ]
  },
  {
   "attachments": {},
   "cell_type": "markdown",
   "metadata": {},
   "source": [
    "Leave one out"
   ]
  },
  {
   "cell_type": "code",
   "execution_count": 22,
   "metadata": {},
   "outputs": [],
   "source": [
    "lo = LeaveOneOut()\n",
    "yhats = []\n",
    "for i, (train_index, test_index) in enumerate(lo.split(X)):\n",
    "    X_train = X.iloc[train_index]\n",
    "    y_train = y[train_index]\n",
    "    X_test = X.iloc[test_index]\n",
    "    model = rfr().fit(X_train, y_train) # zmieniamy na regressor\n",
    "    yhats.append(model.predict(X_test))\n",
    "yhats_1 = np.array(yhats).flatten()"
   ]
  },
  {
   "attachments": {},
   "cell_type": "markdown",
   "metadata": {},
   "source": [
    "Bootstrap"
   ]
  },
  {
   "cell_type": "code",
   "execution_count": 23,
   "metadata": {},
   "outputs": [],
   "source": [
    "n_splits = 150\n",
    "yhats = np.full((n_splits,y.shape[0]),np.nan)\n",
    "ss = ShuffleSplit(n_splits=n_splits, test_size=0.25, random_state=0)\n",
    "for i, (train_index, test_index) in enumerate(ss.split(X)):\n",
    "    X_train = X.iloc[train_index]\n",
    "    X_test = X.iloc[test_index]\n",
    "    y_train = y[train_index]\n",
    "    y_test = y[test_index]\n",
    "    model = rfr().fit(X_train, y_train)\n",
    "    yhat = model.predict(X_test)\n",
    "    yhats[i][test_index] = yhat\n",
    "\n",
    "yhats_2_mean = np.nanmean(yhats,axis=0)\n",
    "yhats_2_std = np.nanstd(yhats,axis=0)"
   ]
  },
  {
   "attachments": {},
   "cell_type": "markdown",
   "metadata": {},
   "source": [
    "### Analiza przy pomocy wykresu"
   ]
  },
  {
   "cell_type": "code",
   "execution_count": 27,
   "metadata": {},
   "outputs": [
    {
     "data": {
      "text/plain": [
       "<matplotlib.legend.Legend at 0x7effd4b4f970>"
      ]
     },
     "execution_count": 27,
     "metadata": {},
     "output_type": "execute_result"
    },
    {
     "data": {
      "image/png": "[encoded data removed]",
      "text/plain": [
       "<Figure size 720x576 with 1 Axes>"
      ]
     },
     "metadata": {
      "needs_background": "light"
     },
     "output_type": "display_data"
    }
   ],
   "source": [
    "fig,ax = plt.subplots(figsize=(10,8))\n",
    "ax1 = ax.scatter(y,yhats_1,label=\"LeaveOneOut\")\n",
    "ax2 = ax.errorbar(y,yhats_2_mean,yhats_2_std,fmt=\".r\",label=\"Bootstrap\")\n",
    "ax.legend()"
   ]
  },
  {
   "attachments": {},
   "cell_type": "markdown",
   "metadata": {},
   "source": [
    "## CFR dla regresji \n",
    "wymaga zaznaczenia że jest to model regresyjny oraz wskazać oczekiwany zakres wyniku predykcji. Pozostałe elementy są podobne do wnioskowania dla klasyfikacji. Przykład zostanie przeprowadzony dla przypadku 37"
   ]
  },
  {
   "cell_type": "code",
   "execution_count": 28,
   "metadata": {},
   "outputs": [
    {
     "name": "stdout",
     "output_type": "stream",
     "text": [
      "276 [142.79]\n"
     ]
    }
   ],
   "source": [
    "test_index = 37\n",
    "X_train = X.drop(axis=0,index=test_index)\n",
    "y_train = np.delete(y.values,test_index)\n",
    "X_test = X.iloc[test_index:test_index+1]\n",
    "\n",
    "model = rfr().fit(X_train, y_train)\n",
    "\n",
    "yhat = model.predict(X_test)\n",
    "y_test=y.values[test_index]\n",
    "print(y_test,yhat)"
   ]
  },
  {
   "cell_type": "code",
   "execution_count": 29,
   "metadata": {},
   "outputs": [],
   "source": [
    "m = dice_ml.Model(model=model, backend=\"sklearn\",model_type=\"regressor\")\n",
    "d = dice_ml.Data(dataframe=data,continuous_features=data.columns.to_list()[:-1],outcome_name='progress')\n",
    "exp = dice_ml.Dice(d, m, method=\"random\")"
   ]
  },
  {
   "cell_type": "code",
   "execution_count": 30,
   "metadata": {},
   "outputs": [
    {
     "name": "stderr",
     "output_type": "stream",
     "text": [
      "100%|██████████| 1/1 [00:00<00:00,  6.43it/s]"
     ]
    },
    {
     "name": "stdout",
     "output_type": "stream",
     "text": [
      "Query instance (original outcome : 143)\n"
     ]
    },
    {
     "name": "stderr",
     "output_type": "stream",
     "text": [
      "\n"
     ]
    },
    {
     "data": {
      "text/html": [
       "<div>\n",
       "<style scoped>\n",
       "    .dataframe tbody tr th:only-of-type {\n",
       "        vertical-align: middle;\n",
       "    }\n",
       "\n",
       "    .dataframe tbody tr th {\n",
       "        vertical-align: top;\n",
       "    }\n",
       "\n",
       "    .dataframe thead th {\n",
       "        text-align: right;\n",
       "    }\n",
       "</style>\n",
       "<table border=\"1\" class=\"dataframe\">\n",
       "  <thead>\n",
       "    <tr style=\"text-align: right;\">\n",
       "      <th></th>\n",
       "      <th>age</th>\n",
       "      <th>sex</th>\n",
       "      <th>bmi</th>\n",
       "      <th>blood preasure</th>\n",
       "      <th>total cholesterol</th>\n",
       "      <th>low-density lipoprotein</th>\n",
       "      <th>high-density lipoproteins</th>\n",
       "      <th>total cholesterol / HDL</th>\n",
       "      <th>serum triglycerides level</th>\n",
       "      <th>glucose</th>\n",
       "      <th>progress</th>\n",
       "    </tr>\n",
       "  </thead>\n",
       "  <tbody>\n",
       "    <tr>\n",
       "      <th>0</th>\n",
       "      <td>46</td>\n",
       "      <td>1</td>\n",
       "      <td>27.4</td>\n",
       "      <td>78.0</td>\n",
       "      <td>171</td>\n",
       "      <td>88.0</td>\n",
       "      <td>58.0</td>\n",
       "      <td>3.0</td>\n",
       "      <td>4.8283</td>\n",
       "      <td>90</td>\n",
       "      <td>143.0</td>\n",
       "    </tr>\n",
       "  </tbody>\n",
       "</table>\n",
       "</div>"
      ],
      "text/plain": [
       "   age  sex   bmi  blood preasure  total cholesterol  low-density lipoprotein  \\\n",
       "0   46    1  27.4            78.0                171                     88.0   \n",
       "\n",
       "   high-density lipoproteins  total cholesterol / HDL  \\\n",
       "0                       58.0                      3.0   \n",
       "\n",
       "   serum triglycerides level  glucose  progress  \n",
       "0                     4.8283       90     143.0  "
      ]
     },
     "metadata": {},
     "output_type": "display_data"
    },
    {
     "name": "stdout",
     "output_type": "stream",
     "text": [
      "\n",
      "Diverse Counterfactual set (new outcome: [250, 260])\n"
     ]
    },
    {
     "data": {
      "text/html": [
       "<div>\n",
       "<style scoped>\n",
       "    .dataframe tbody tr th:only-of-type {\n",
       "        vertical-align: middle;\n",
       "    }\n",
       "\n",
       "    .dataframe tbody tr th {\n",
       "        vertical-align: top;\n",
       "    }\n",
       "\n",
       "    .dataframe thead th {\n",
       "        text-align: right;\n",
       "    }\n",
       "</style>\n",
       "<table border=\"1\" class=\"dataframe\">\n",
       "  <thead>\n",
       "    <tr style=\"text-align: right;\">\n",
       "      <th></th>\n",
       "      <th>age</th>\n",
       "      <th>sex</th>\n",
       "      <th>bmi</th>\n",
       "      <th>blood preasure</th>\n",
       "      <th>total cholesterol</th>\n",
       "      <th>low-density lipoprotein</th>\n",
       "      <th>high-density lipoproteins</th>\n",
       "      <th>total cholesterol / HDL</th>\n",
       "      <th>serum triglycerides level</th>\n",
       "      <th>glucose</th>\n",
       "      <th>progress</th>\n",
       "    </tr>\n",
       "  </thead>\n",
       "  <tbody>\n",
       "    <tr>\n",
       "      <th>0</th>\n",
       "      <td>46.0</td>\n",
       "      <td>1.0</td>\n",
       "      <td>39.2</td>\n",
       "      <td>78.0</td>\n",
       "      <td>171.0</td>\n",
       "      <td>88.0</td>\n",
       "      <td>58.0</td>\n",
       "      <td>4.5</td>\n",
       "      <td>5.4873</td>\n",
       "      <td>90.0</td>\n",
       "      <td>258.010010</td>\n",
       "    </tr>\n",
       "    <tr>\n",
       "      <th>1</th>\n",
       "      <td>46.0</td>\n",
       "      <td>1.0</td>\n",
       "      <td>40.4</td>\n",
       "      <td>78.0</td>\n",
       "      <td>171.0</td>\n",
       "      <td>88.0</td>\n",
       "      <td>35.4</td>\n",
       "      <td>7.6</td>\n",
       "      <td>4.8283</td>\n",
       "      <td>90.0</td>\n",
       "      <td>253.289993</td>\n",
       "    </tr>\n",
       "  </tbody>\n",
       "</table>\n",
       "</div>"
      ],
      "text/plain": [
       "    age  sex   bmi  blood preasure  total cholesterol  \\\n",
       "0  46.0  1.0  39.2            78.0              171.0   \n",
       "1  46.0  1.0  40.4            78.0              171.0   \n",
       "\n",
       "   low-density lipoprotein  high-density lipoproteins  \\\n",
       "0                     88.0                       58.0   \n",
       "1                     88.0                       35.4   \n",
       "\n",
       "   total cholesterol / HDL  serum triglycerides level  glucose    progress  \n",
       "0                      4.5                     5.4873     90.0  258.010010  \n",
       "1                      7.6                     4.8283     90.0  253.289993  "
      ]
     },
     "metadata": {},
     "output_type": "display_data"
    }
   ],
   "source": [
    "e = exp.generate_counterfactuals(X_test, total_CFs=2, desired_range=[250,260])\n",
    "e.visualize_as_dataframe()"
   ]
  },
  {
   "cell_type": "code",
   "execution_count": 31,
   "metadata": {},
   "outputs": [
    {
     "data": {
      "text/html": [
       "<div>\n",
       "<style scoped>\n",
       "    .dataframe tbody tr th:only-of-type {\n",
       "        vertical-align: middle;\n",
       "    }\n",
       "\n",
       "    .dataframe tbody tr th {\n",
       "        vertical-align: top;\n",
       "    }\n",
       "\n",
       "    .dataframe thead th {\n",
       "        text-align: right;\n",
       "    }\n",
       "</style>\n",
       "<table border=\"1\" class=\"dataframe\">\n",
       "  <thead>\n",
       "    <tr style=\"text-align: right;\">\n",
       "      <th></th>\n",
       "      <th>age</th>\n",
       "      <th>sex</th>\n",
       "      <th>bmi</th>\n",
       "      <th>blood preasure</th>\n",
       "      <th>total cholesterol</th>\n",
       "      <th>low-density lipoprotein</th>\n",
       "      <th>high-density lipoproteins</th>\n",
       "      <th>total cholesterol / HDL</th>\n",
       "      <th>serum triglycerides level</th>\n",
       "      <th>glucose</th>\n",
       "      <th>progress</th>\n",
       "    </tr>\n",
       "  </thead>\n",
       "  <tbody>\n",
       "    <tr>\n",
       "      <th>0</th>\n",
       "      <td>46.0</td>\n",
       "      <td>1.0</td>\n",
       "      <td>39.2</td>\n",
       "      <td>78.0</td>\n",
       "      <td>171.0</td>\n",
       "      <td>88.0</td>\n",
       "      <td>58.0</td>\n",
       "      <td>4.5</td>\n",
       "      <td>5.4873</td>\n",
       "      <td>90.0</td>\n",
       "      <td>258.0</td>\n",
       "    </tr>\n",
       "    <tr>\n",
       "      <th>1</th>\n",
       "      <td>46.0</td>\n",
       "      <td>1.0</td>\n",
       "      <td>40.4</td>\n",
       "      <td>78.0</td>\n",
       "      <td>171.0</td>\n",
       "      <td>88.0</td>\n",
       "      <td>35.4</td>\n",
       "      <td>7.6</td>\n",
       "      <td>4.8283</td>\n",
       "      <td>90.0</td>\n",
       "      <td>253.0</td>\n",
       "    </tr>\n",
       "  </tbody>\n",
       "</table>\n",
       "</div>"
      ],
      "text/plain": [
       "    age  sex   bmi  blood preasure  total cholesterol  \\\n",
       "0  46.0  1.0  39.2            78.0              171.0   \n",
       "1  46.0  1.0  40.4            78.0              171.0   \n",
       "\n",
       "   low-density lipoprotein  high-density lipoproteins  \\\n",
       "0                     88.0                       58.0   \n",
       "1                     88.0                       35.4   \n",
       "\n",
       "   total cholesterol / HDL  serum triglycerides level  glucose  progress  \n",
       "0                      4.5                     5.4873     90.0     258.0  \n",
       "1                      7.6                     4.8283     90.0     253.0  "
      ]
     },
     "execution_count": 31,
     "metadata": {},
     "output_type": "execute_result"
    }
   ],
   "source": [
    "e0 = e._cf_examples_list[0]\n",
    "e0_df = e0.final_cfs_df\n",
    "e0_df"
   ]
  },
  {
   "attachments": {},
   "cell_type": "markdown",
   "metadata": {},
   "source": [
    "Wizualizacja proponowanych zmian"
   ]
  },
  {
   "cell_type": "code",
   "execution_count": 32,
   "metadata": {},
   "outputs": [
    {
     "data": {
      "image/png": "[encoded data removed]",
      "text/plain": [
       "<Figure size 720x432 with 1 Axes>"
      ]
     },
     "metadata": {
      "needs_background": "light"
     },
     "output_type": "display_data"
    }
   ],
   "source": [
    "fig,ax = plt.subplots(figsize=(10,6))\n",
    "ax.bar(x=X_test.columns,height=X_test.iloc[0])\n",
    "ax.bar(x=X_test.columns,height=e0_df.iloc[0,:-1],width=0.6)\n",
    "ax.tick_params(axis='x', labelrotation = 90)"
   ]
  },
  {
   "attachments": {},
   "cell_type": "markdown",
   "metadata": {},
   "source": [
    "## Zadanie: \n",
    "\n",
    "> dla zbioru danych \"beton\" dla wybranych przypadków, wskazać jakie minimalne zmiany musiały by zostać wprowadzone, aby dany beton był mocniejszy. Czy takie postępowanie jest prawidłowe?"
   ]
  }
 ],
 "metadata": {
  "kernelspec": {
   "display_name": "venv",
   "language": "python",
   "name": "python3"
  },
  "language_info": {
   "codemirror_mode": {
    "name": "ipython",
    "version": 3
   },
   "file_extension": ".py",
   "mimetype": "text/x-python",
   "name": "python",
   "nbconvert_exporter": "python",
   "pygments_lexer": "ipython3",
   "version": "3.9.5"
  },
  "orig_nbformat": 4
 },
 "nbformat": 4,
 "nbformat_minor": 2
}
